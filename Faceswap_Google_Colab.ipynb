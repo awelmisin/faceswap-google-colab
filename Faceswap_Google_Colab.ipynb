{
  "nbformat": 4,
  "nbformat_minor": 0,
  "metadata": {
    "accelerator": "GPU",
    "colab": {
      "name": "Faceswap - Google Colab.ipynb",
      "provenance": [],
      "collapsed_sections": [],
      "toc_visible": true,
      "include_colab_link": true
    },
    "kernelspec": {
      "display_name": "Python 3",
      "name": "python3"
    }
  },
  "cells": [
    {
      "cell_type": "markdown",
      "metadata": {
        "id": "view-in-github",
        "colab_type": "text"
      },
      "source": [
        "<a href=\"https://colab.research.google.com/github/awelmisin/faceswap-google-colab/blob/main/Faceswap_Google_Colab.ipynb\" target=\"_parent\"><img src=\"https://colab.research.google.com/assets/colab-badge.svg\" alt=\"Open In Colab\"/></a>"
      ]
    },
    {
      "cell_type": "markdown",
      "metadata": {
        "id": "FihV6led3S0g"
      },
      "source": [
        "# Instructions"
      ]
    },
    {
      "cell_type": "markdown",
      "metadata": {
        "id": "iLDlBRZ83YBn"
      },
      "source": [
        "Faceswap - Google Colab\n",
        "\n",
        "You also need Faceswap GUI for this to work, since you can't extract faces here, yet.\n",
        "\n",
        "Files you need to upload on Google Drive\n",
        "1.   face_a.zip (source face pics you want to swap)\n",
        "2.   face_b.zip (faces you want to get swapped)\n",
        "\n",
        "> Zipped files with extracted faces and alignments.fsa\n",
        "\n",
        "3.   train.ini\n",
        "> Your train.ini from your local system, in Windows this is in: C:\\Users\\YourName\\faceswap\\config\n",
        "\n",
        "Here is what filesystem looks like in Google Drive\n",
        "*   /colab_files/faceswap/faces/face_a.zip\n",
        "*   /colab_files/faceswap/faces/face_b.zip\n",
        "*   /colab_files/faceswap/config/train.ini\n",
        "\n",
        "Recommended folders to create on Google Drive:\n",
        "*   /colab_files/faceswap/models/YourModelName\n",
        "*   /colab_files/faceswap/output/timelapse\n",
        "\n",
        "Here is what filesystem should look like in this Google Colab after the \"Mount Google Drive\" step below.\n",
        "*   /content/drive/My Drive/colab_files/faceswap/faces/face_a.zip\n",
        "*   /content/drive/My Drive/colab_files/faceswap/faces/face_b.zip\n",
        "*   /content/drive/My Drive/colab_files/faceswap/config/train.ini"
      ]
    },
    {
      "cell_type": "markdown",
      "metadata": {
        "id": "X8Me0Og6vM_N"
      },
      "source": [
        "# Usage Notes"
      ]
    },
    {
      "cell_type": "markdown",
      "metadata": {
        "id": "p2aNoS2CvR8m"
      },
      "source": [
        "This is my personal SOP for handling the Faceswap process. I find it is best to tweak your settings, extract, test your training, and convert everything using your local system.\n",
        "\n",
        "But training on my laptop took weeks to get the same results that you can get from just days by using a Google Colab.\n",
        "\n",
        "*   Extract, Align, then Zip all Faces A\n",
        "*   Extract, Align, then Zip all Faces B\n",
        "*   Modify the \"Run Training\" script below to your preferences\n",
        "*   Train in this Colab Notebook\n",
        "*   Watch Google Drive timestamp folder to see how the training is improving\n",
        "*   Download YourModelName to your local system\n",
        "*   Convert using the downloaded model\n"
      ]
    },
    {
      "cell_type": "markdown",
      "metadata": {
        "id": "5nw9Lc-sGQvZ"
      },
      "source": [
        "# Keep Session Alive\n",
        " (it may not work due to latest Google Colab Captcha changes.)\n",
        "\n"
      ]
    },
    {
      "cell_type": "code",
      "metadata": {
        "colab": {
          "base_uri": "https://localhost:8080/",
          "height": 34
        },
        "id": "1w3gNJgtBw5F",
        "outputId": "2f72a8cc-7f33-4ac4-f76e-cebdc3e290dc"
      },
      "source": [
        "import IPython\n",
        "from google.colab import output\n",
        "\n",
        "display(IPython.display.Javascript('''\n",
        " function ClickConnect(){\n",
        "   btn = document.querySelector(\"colab-connect-button\")\n",
        "   if (btn != null){\n",
        "     console.log(\"Click colab-connect-button\"); \n",
        "     btn.click() \n",
        "     }\n",
        "   \n",
        "   btn = document.getElementById('ok')\n",
        "   if (btn != null){\n",
        "     console.log(\"Click reconnect\"); \n",
        "     btn.click() \n",
        "     }\n",
        "  }\n",
        "  \n",
        "setInterval(ClickConnect,60000)\n",
        "'''))\n",
        "\n",
        "print(\"Done.\")"
      ],
      "execution_count": null,
      "outputs": [
        {
          "output_type": "display_data",
          "data": {
            "application/javascript": [
              "\n",
              " function ClickConnect(){\n",
              "   btn = document.querySelector(\"colab-connect-button\")\n",
              "   if (btn != null){\n",
              "     console.log(\"Click colab-connect-button\"); \n",
              "     btn.click() \n",
              "     }\n",
              "   \n",
              "   btn = document.getElementById('ok')\n",
              "   if (btn != null){\n",
              "     console.log(\"Click reconnect\"); \n",
              "     btn.click() \n",
              "     }\n",
              "  }\n",
              "  \n",
              "setInterval(ClickConnect,60000)\n"
            ],
            "text/plain": [
              "<IPython.core.display.Javascript object>"
            ]
          },
          "metadata": {
            "tags": []
          }
        },
        {
          "output_type": "stream",
          "text": [
            "Done.\n"
          ],
          "name": "stdout"
        }
      ]
    },
    {
      "cell_type": "markdown",
      "metadata": {
        "id": "c0-VFf7-GYIt"
      },
      "source": [
        "# Check your GPU\n",
        "If it isn't **Tesla T4** or **Tesla P100**, go Runtime->Factory Reset Runtime until you get one."
      ]
    },
    {
      "cell_type": "code",
      "metadata": {
        "id": "A1F6HO7TJKyj"
      },
      "source": [
        "!nvidia-smi\n",
        "\n",
        "import tensorflow as tf\n",
        "print(\"Tensorflow version: \" + tf.__version__)"
      ],
      "execution_count": null,
      "outputs": []
    },
    {
      "cell_type": "markdown",
      "metadata": {
        "id": "e1yNPAbSSKdK"
      },
      "source": [
        "# Setup Faceswap"
      ]
    },
    {
      "cell_type": "code",
      "metadata": {
        "id": "nZ0sa6XRJ-33",
        "colab": {
          "base_uri": "https://localhost:8080/"
        },
        "outputId": "71d52719-31a8-4f74-afbb-c52180b6f6c3"
      },
      "source": [
        "#@title Set Time Zone\n",
        "!rm /etc/localtime\n",
        "!ln -s /usr/share/zoneinfo/Turkey /etc/localtime\n",
        "!date\n",
        "\n",
        "#above is for HST, you can find yours in\n",
        "#/usr/share/zoneinfo\n"
      ],
      "execution_count": null,
      "outputs": [
        {
          "output_type": "stream",
          "text": [
            "Sat May 29 14:19:09 +03 2021\n"
          ],
          "name": "stdout"
        }
      ]
    },
    {
      "cell_type": "code",
      "metadata": {
        "id": "BuNRgHGRSP59",
        "colab": {
          "base_uri": "https://localhost:8080/"
        },
        "outputId": "338abac5-bf2e-4b7f-d532-b898f174d0e7"
      },
      "source": [
        "#@title Mount Google Drive\n",
        "\n",
        "from google.colab import drive\n",
        "drive.mount('/content/drive', force_remount=True)"
      ],
      "execution_count": null,
      "outputs": [
        {
          "output_type": "stream",
          "text": [
            "Mounted at /content/drive\n"
          ],
          "name": "stdout"
        }
      ]
    },
    {
      "cell_type": "code",
      "metadata": {
        "id": "NGs28NN6VuSD"
      },
      "source": [
        "#@title Get your training data(aka the faces you extracted in app)\n",
        "!cp \"/content/drive/My Drive/colab_files/faceswap/faces/face_a.zip\" .\n",
        "!cp \"/content/drive/My Drive/colab_files/faceswap/faces/face_b.zip\" .\n",
        "\n",
        "!unzip face_a.zip -d face_a\n",
        "!unzip face_b.zip -d face_b\n",
        "\n",
        "!rm face_a.zip\n",
        "!rm face_b.zip\n"
      ],
      "execution_count": null,
      "outputs": []
    },
    {
      "cell_type": "code",
      "metadata": {
        "id": "NUHDDCPCcDKW"
      },
      "source": [
        "#@title Get the latest Faceswap\n",
        "!git clone https://github.com/deepfakes/faceswap.git"
      ],
      "execution_count": null,
      "outputs": []
    },
    {
      "cell_type": "code",
      "metadata": {
        "id": "HP9m733KiKG6"
      },
      "source": [
        "#@title Copy your configuration(train.ini) file\n",
        "!cp \"/content/drive/My Drive/colab_files/faceswap/config/train.ini\" faceswap/config/\n",
        "!ls -lA faceswap/config/\n",
        "!cat faceswap/config/train.ini"
      ],
      "execution_count": null,
      "outputs": []
    },
    {
      "cell_type": "code",
      "metadata": {
        "id": "VDzky8jnfDzE"
      },
      "source": [
        "#@title Install Tensorflow\n",
        "\n",
        "!pip install -r faceswap/requirements_nvidia.txt"
      ],
      "execution_count": null,
      "outputs": []
    },
    {
      "cell_type": "code",
      "metadata": {
        "id": "npA9qG2JnBSH"
      },
      "source": [
        "!python3 faceswap/tools.py mask -a 'face_b/alignments.fsa' -i 'face_b' -it faces -M vgg-clear -p all -o '/drive/MyDrive/colab_files/faceswap/faces/facexb/mask' -b 3 -t 4 -ot mask -L INFO\n"
      ],
      "execution_count": null,
      "outputs": []
    },
    {
      "cell_type": "markdown",
      "metadata": {
        "id": "9IvtNv6w3KGX"
      },
      "source": [
        "# Run Training\n",
        "Iteration number is up to you but it's recommended that you should do until the number you are okay with. You should check your timelapse folder for that.\n",
        "\n",
        "And if my calculations are right, trainer is doing nearly 360 iterations in 10 mins, which means 2160 iterations in 1 hr."
      ]
    },
    {
      "cell_type": "code",
      "metadata": {
        "id": "kAj-tLiJgUTM"
      },
      "source": [
        "#set variables start\n",
        "num_iterations = \"100000\"\n",
        "save_every = \"360\"\n",
        "save_model_every = \"25000\"\n",
        "batch_num = \"16\"\n",
        "num_gpus = \"1\"\n",
        "\n",
        "trainer_type = \"villain\"\n",
        "\n",
        "model_dir = \"/content/drive/My Drive/colab_files/faceswap/models/YourModelName\"\n",
        "alignments_file_a = \"face_a/2_alignments.fsa\"\n",
        "alignments_file_b = \"face_b/alignments.fsa\"\n",
        "timelapse_dir = \"/content/drive/My Drive/colab_files/faceswap/output/timelapse\"\n",
        "#set variables end\n",
        "\n",
        "!python3 faceswap/faceswap.py train \\\n",
        "  -A 'face_a' \\\n",
        "  -B 'face_b'  \\\n",
        "  -m '{model_dir}' \\\n",
        "  -t '{trainer_type}' \\\n",
        "  -bs '{batch_num}' \\\n",
        "  -it '{num_iterations}' \\\n",
        "  -s '{save_every}' \\\n",
        "  -ss '{save_model_every}' \\\n",
        "  -tia 'face_a' \\\n",
        "  -tib 'face_b' \\\n",
        "  -to '{timelapse_dir}'\n"
      ],
      "execution_count": null,
      "outputs": []
    },
    {
      "cell_type": "markdown",
      "metadata": {
        "id": "1zeZ9ShYFw3K"
      },
      "source": [
        "# Convert"
      ]
    },
    {
      "cell_type": "code",
      "metadata": {
        "id": "vkHZf2BN86go"
      },
      "source": [
        "!python3 faceswap/faceswap.py convert -i '/content/drive/My Drive/colab_files/faceswap/Editor.avi' -o '/content/drive/My Drive/colab_files/faceswap/Results' -al '/content/drive/My Drive/colab_files/faceswap/2_alignments.fsa' -m '/content/drive/My Drive/colab_files/faceswap/models/YourModelName' -c match-hist -M none -w ffmpeg -osc 100 -l 0.4 -j 0 -t realface -L INFO"
      ],
      "execution_count": null,
      "outputs": []
    }
  ]
}